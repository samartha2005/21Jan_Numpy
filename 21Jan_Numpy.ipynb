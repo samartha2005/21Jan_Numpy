{
 "cells": [
  {
   "cell_type": "code",
   "execution_count": 1,
   "id": "86105b44-7fef-4159-afa3-7b0c742783c0",
   "metadata": {},
   "outputs": [],
   "source": [
    "import numpy as np"
   ]
  },
  {
   "cell_type": "raw",
   "id": "03393d21-f756-479c-ad3a-d5e13a82199b",
   "metadata": {},
   "source": [
    "1. What is a Python library? Why do we use Python libraries?\n",
    "Ans:\n",
    "\n",
    "Python library:\n",
    "A Python library is a collection of pre-written and reusable code that provides specific functionality. Libraries contain modules, functions, classes, and methods that can be imported into a Python script or program, allowing developers to leverage existing code rather than writing everything from scratch. These libraries cover a wide range of tasks and functionalities, making it easier for developers to perform common operations without reinventing the wheel.\n",
    "\n",
    "\n",
    "Here are some reasons why we use Python libraries:\n",
    "1.Open Source: Many Python libraries are open source, meaning that their source code is freely available for inspection,                      modification, and distribution. \n",
    "2.Code Reusability: Python libraries provide pre-built modules and functions that can be reused across different projects.                         This helps in saving time and effort, as developers don't need to write code for common tasks repeatedly.\n",
    "3.Productivity: By using Python libraries, developers can focus on the high-level aspects of their projects rather than                       getting bogged down by low-level details.\n",
    "4.Efficiency: Many Python libraries are optimized for performance and have undergone extensive testing\n",
    "5.Community Support: Python has a large and active community of developers who contribute to the creation and maintenance of                        libraries. This means that developers can find support, documentation, and updates for popular libraries,                      ensuring that their code stays current and secure.\n",
    "6.Specialized Functionality: Python libraries often provide specialized functionality in various domains such as data                                      analysis, machine learning, web development, image processing, networking\n",
    "7.Interoperability: Python libraries are designed to work seamlessly with the Python programming language."
   ]
  },
  {
   "cell_type": "raw",
   "id": "5754fec3-5910-4631-836b-d92597193ecb",
   "metadata": {},
   "source": [
    "2. What is the difference between Numpy array and List?\n",
    "Ans:\n",
    "1.Data Type:\n",
    "In Python lists-> elements can be of different data types. For example, a list can contain integers, strings, and other types\n",
    "                 in the same list.\n",
    "In NumPy arrays-> all elements must be of the same data type. This homogeneity allows for more efficient storage and \n",
    "                  operations.\n",
    "2.Performance:\n",
    "NumPy arrays-> are more efficient for numerical operations than Python lists. NumPy is implemented in C and allows for \n",
    "     vectorized operations, which means that operations can be performed on entire arrays without the need for explicit loops.\n",
    "Lists in Python-> are more flexible but can be slower for numerical computations because they don't have the same level of\n",
    "                 optimization for array operations.\n",
    "3.Size and Memory Efficiency:\n",
    "NumPy arrays-> are more memory efficient compared to Python lists. This is partly due to the homogeneity of data types, and \n",
    "               NumPy arrays store data in a more compact format.\n",
    "Python lists-> are more flexible but can consume more memory, especially when dealing with large datasets.\n",
    "4.Functionality:\n",
    "NumPy-> provides a wide range of mathematical and logical operations that can be applied to entire arrays. These operations\n",
    "        are vectorized and can be performed on the entire array without the need for explicit loops.\n",
    "Lists-> are more general-purpose and offer a variety of built-in methods and functions, but they may require explicit \n",
    "        iteration for certain operations.\n",
    "5.Syntax:\n",
    "NumPy-> arrays have a more concise and expressive syntax for numerical operations. They use vectorized operations, \n",
    "        eliminating the need for explicit loops in many cases.\n",
    "Lists-> in Python are more versatile but might require more lines of code for certain numerical operations."
   ]
  },
  {
   "cell_type": "code",
   "execution_count": 3,
   "id": "fd528e53-0a60-4ef4-b256-845886642854",
   "metadata": {},
   "outputs": [
    {
     "name": "stdout",
     "output_type": "stream",
     "text": [
      "Python List (times two): [2, 4, 6, 8, 10]\n",
      "NumPy Array (times two): [ 2  4  6  8 10]\n"
     ]
    }
   ],
   "source": [
    "# Example/Code:\n",
    "# Python list\n",
    "python_list = [1, 2, 3, 4, 5]\n",
    "# NumPy array\n",
    "numpy_array = np.array([1, 2, 3, 4, 5])\n",
    "\n",
    "# Performing a numerical operation (multiply each element by 2)\n",
    "# Using Python list\n",
    "python_list_times_two = [x * 2 for x in python_list]\n",
    "# Using NumPy array\n",
    "numpy_array_times_two = numpy_array * 2\n",
    "\n",
    "print(\"Python List (times two):\", python_list_times_two)\n",
    "print(\"NumPy Array (times two):\", numpy_array_times_two)\n"
   ]
  },
  {
   "cell_type": "code",
   "execution_count": 7,
   "id": "37986fc7-7908-43f8-93c9-0b1a2d5fb6ce",
   "metadata": {},
   "outputs": [],
   "source": [
    "import numpy as np"
   ]
  },
  {
   "cell_type": "code",
   "execution_count": 19,
   "id": "bdc2731d-ca43-4980-9737-fd1659312385",
   "metadata": {},
   "outputs": [
    {
     "name": "stdout",
     "output_type": "stream",
     "text": [
      "arr1:  [[[ 1  2  3  4]\n",
      "  [ 5  6  7  8]\n",
      "  [ 9 10 11 12]]]\n",
      "Shape of the Given arr1:  (1, 3, 4)\n",
      "Size of the Given arr1:  12\n",
      "Dimensions of the Given arr1:  3\n"
     ]
    }
   ],
   "source": [
    "'''3. Find the shape, size and dimension of the following array?\n",
    "[[1, 2, 3, 4]\n",
    "[5, 6, 7, 8],\n",
    "[9, 10, 11, 12]]'''\n",
    "\n",
    "# code\n",
    "arr1=np.array([[[1, 2, 3, 4],[5, 6, 7, 8],[9, 10, 11, 12]]])\n",
    "shape=arr1.shape\n",
    "size=arr1.size\n",
    "dimension=arr1.ndim\n",
    "\n",
    "print(\"arr1: \",arr1)\n",
    "print(\"Shape of the Given arr1: \",shape)\n",
    "print(\"Size of the Given arr1: \",size)\n",
    "print(\"Dimensions of the Given arr1: \",dimension)"
   ]
  },
  {
   "cell_type": "code",
   "execution_count": 34,
   "id": "c3a7350e-40a8-41ad-b3f1-88b5b056307d",
   "metadata": {},
   "outputs": [
    {
     "name": "stdout",
     "output_type": "stream",
     "text": [
      " Given array:  [[[ 1  2  3  4]\n",
      "  [ 5  6  7  8]\n",
      "  [ 9 10 11 12]]]\n",
      "first row:  [1 2 3 4]\n"
     ]
    }
   ],
   "source": [
    "'''4. Write python code to access the first row of the following array?\n",
    "[[1, 2, 3, 4]\n",
    "[5, 6, 7, 8],\n",
    "[9, 10, 11, 12]]'''\n",
    "\n",
    "#code\n",
    "arr=np.array([[[1, 2, 3, 4],[5, 6, 7, 8],[9, 10, 11, 12]]])\n",
    "first_row=arr[0,0]\n",
    "print(\" Given array: \",arr)\n",
    "print(\"first row: \", first_row)"
   ]
  },
  {
   "cell_type": "code",
   "execution_count": 50,
   "id": "33a74cd1-e1c8-42d3-b548-d3cb3edfd555",
   "metadata": {},
   "outputs": [
    {
     "name": "stdout",
     "output_type": "stream",
     "text": [
      "The element at the third row and fourth column is :  12\n"
     ]
    }
   ],
   "source": [
    "'''5. How do you access the element at the third row and fourth column from the given numpy array?\n",
    "[[1, 2, 3, 4]\n",
    "[5, 6, 7, 8],\n",
    "[9, 10, 11, 12]]'''\n",
    "\n",
    "# code\n",
    "arr=np.array([[[1, 2, 3, 4],[5, 6, 7, 8],[9, 10, 11, 12]]])\n",
    "index=arr[0,2,3]\n",
    "print(\"The element at the third row and fourth column is : \",index)"
   ]
  },
  {
   "cell_type": "code",
   "execution_count": 2,
   "id": "b11ea8bc-8401-44cf-b843-a5c180edf297",
   "metadata": {},
   "outputs": [
    {
     "name": "stdout",
     "output_type": "stream",
     "text": [
      "[ 2  4  6  8 10 12]\n"
     ]
    }
   ],
   "source": [
    "'''6. Write code to extract all odd-innexed elements from the given numpy array?\n",
    "[[1, 2, 3, 4]\n",
    "[5, 6, 7, 8],\n",
    "[9, 10, 11, 12]]'''\n",
    "\n",
    "# code\n",
    "import numpy as np\n",
    "# Given NumPy array\n",
    "arr = np.array([[1, 2, 3, 4],\n",
    "                [5, 6, 7, 8],\n",
    "                [9, 10, 11, 12]])\n",
    "\n",
    "# Extract odd-indexed elements\n",
    "odd_indexed_elements = [element for row in arr for index, element in enumerate(row) if index % 2 != 0]\n",
    "\n",
    "# Convert the result to NumPy array\n",
    "result_array = np.array(odd_indexed_elements)\n",
    "\n",
    "print(result_array)\n"
   ]
  },
  {
   "cell_type": "code",
   "execution_count": 3,
   "id": "98e29412-c870-4497-ae50-2e9a0f239364",
   "metadata": {},
   "outputs": [
    {
     "name": "stdout",
     "output_type": "stream",
     "text": [
      "[[0.07630586 0.57505657 0.48408574]\n",
      " [0.26188357 0.38211872 0.78396341]\n",
      " [0.54413637 0.94072918 0.38221803]]\n"
     ]
    }
   ],
   "source": [
    "'''7. How can you generate a random 3x3 matrix with values between 0 and 1?'''\n",
    "\n",
    "# code\n",
    "import numpy as np\n",
    "# Generate a random 3x3 matrix with values between 0 and 1\n",
    "random_matrix = np.random.rand(3, 3)\n",
    "\n",
    "print(random_matrix)"
   ]
  },
  {
   "cell_type": "code",
   "execution_count": 5,
   "id": "20073520-a222-4bc0-a9b6-445409d362b9",
   "metadata": {},
   "outputs": [],
   "source": [
    "'''8. Describe the difference between np.random.rand and np.random.randn?'''\n",
    "\n",
    "# Ans\n",
    "'''\n",
    "The functions np.random.rand and np.random.randn in the NumPy library are both used for generating random numbers, \n",
    "but they have some key differences in terms of the distribution of the generated values.\n",
    "\n",
    "np.random.rand:\n",
    "\n",
    "Generates random values from a uniform distribution over the interval [0, 1).\n",
    "The generated values are floats and are uniformly distributed.\n",
    "You can specify the shape of the output array by passing the dimensions as arguments. \n",
    "For example, np.random.rand(2, 3) will create a 2x3 array.\n",
    "'''\n",
    "\n",
    "# code for np.random.rand:\n",
    "import numpy as np\n",
    "# Example of np.random.rand\n",
    "random_values_uniform = np.random.rand(2, 3)\n",
    "\n",
    "\n",
    "'''\n",
    "np.random.randn:\n",
    "\n",
    "Generates random values from a standard normal distribution (mean=0, standard deviation=1).\n",
    "The generated values are floats and are normally distributed.\n",
    "You can also specify the shape of the output array in the same way as np.random.rand.\n",
    "'''\n",
    "# code for np.random.randn\n",
    "import numpy as np\n",
    "\n",
    "# Example of np.random.randn\n",
    "random_values_normal = np.random.randn(2, 3)"
   ]
  },
  {
   "cell_type": "code",
   "execution_count": 6,
   "id": "ed29360b-01b2-4af9-9452-572a7bdcbbde",
   "metadata": {},
   "outputs": [
    {
     "name": "stdout",
     "output_type": "stream",
     "text": [
      "Original Array:\n",
      "[[ 1  2  3  4]\n",
      " [ 5  6  7  8]\n",
      " [ 9 10 11 12]]\n",
      "\n",
      "Array with Increased Dimension:\n",
      "[[[ 1  2  3  4]\n",
      "  [ 5  6  7  8]\n",
      "  [ 9 10 11 12]]]\n"
     ]
    }
   ],
   "source": [
    "'''9. Write code to increase the dimension of the following array?\n",
    "[[1, 2, 3, 4]\n",
    "[5, 6, 7, 8],\n",
    "[9, 10, 11, 12]]'''\n",
    "\n",
    "# code\n",
    "import numpy as np\n",
    "\n",
    "# Given array\n",
    "original_array = np.array([[1, 2, 3, 4],\n",
    "                           [5, 6, 7, 8],\n",
    "                           [9, 10, 11, 12]])\n",
    "\n",
    "# Increase dimension along axis 0 (add a new axis at the beginning)\n",
    "new_dimension_array = original_array[np.newaxis, :, :]\n",
    "\n",
    "# Alternatively, you can use np.expand_dims\n",
    "# new_dimension_array = np.expand_dims(original_array, axis=0)\n",
    "\n",
    "print(\"Original Array:\")\n",
    "print(original_array)\n",
    "\n",
    "print(\"\\nArray with Increased Dimension:\")\n",
    "print(new_dimension_array)\n"
   ]
  },
  {
   "cell_type": "code",
   "execution_count": 7,
   "id": "ae6592be-16b4-4e2a-98fe-eab69556f876",
   "metadata": {},
   "outputs": [
    {
     "name": "stdout",
     "output_type": "stream",
     "text": [
      "Original Array:\n",
      "[[ 1  2  3  4]\n",
      " [ 5  6  7  8]\n",
      " [ 9 10 11 12]]\n",
      "\n",
      "Transposed Array:\n",
      "[[ 1  5  9]\n",
      " [ 2  6 10]\n",
      " [ 3  7 11]\n",
      " [ 4  8 12]]\n"
     ]
    }
   ],
   "source": [
    "'''10. How to transpose the following array in NumPy?\n",
    "[[1, 2, 3, 4]\n",
    "[5, 6, 7, 8],\n",
    "[9, 10, 11, 12]]'''\n",
    "\n",
    "# code\n",
    "import numpy as np\n",
    "\n",
    "# Given array\n",
    "original_array = np.array([[1, 2, 3, 4],\n",
    "                           [5, 6, 7, 8],\n",
    "                           [9, 10, 11, 12]])\n",
    "\n",
    "# Transpose using numpy.transpose\n",
    "transposed_array = np.transpose(original_array)\n",
    "\n",
    "# Alternatively, you can use the .T attribute\n",
    "# transposed_array = original_array.T\n",
    "\n",
    "print(\"Original Array:\")\n",
    "print(original_array)\n",
    "\n",
    "print(\"\\nTransposed Array:\")\n",
    "print(transposed_array)\n"
   ]
  },
  {
   "cell_type": "code",
   "execution_count": 9,
   "id": "e99d1010-a419-42b4-a8f3-d082a3c9fa2b",
   "metadata": {},
   "outputs": [
    {
     "name": "stdout",
     "output_type": "stream",
     "text": [
      "Matrix A2:\n",
      "[[ 1  2  3  4]\n",
      " [ 5  6  7  8]\n",
      " [ 9 10 11 12]]\n",
      "\n",
      "Matrix B2:\n",
      "[[ 1  2  3  4]\n",
      " [ 5  6  7  8]\n",
      " [ 9 10 11 12]]\n",
      "1. Index-wise Multiplication:\n",
      "[[  1   4   9  16]\n",
      " [ 25  36  49  64]\n",
      " [ 81 100 121 144]]\n",
      "\n",
      "2. Matrix Multiplication:\n",
      "[[ 30  70 110]\n",
      " [ 70 174 278]\n",
      " [110 278 446]]\n",
      "\n",
      "3. Matrix Sum:\n",
      "[[ 2  4  6  8]\n",
      " [10 12 14 16]\n",
      " [18 20 22 24]]\n",
      "\n",
      "4. Matrix Difference (A - B):\n",
      "[[0 0 0 0]\n",
      " [0 0 0 0]\n",
      " [0 0 0 0]]\n",
      "\n",
      "5. Matrix Division (B / A):\n",
      "[[1. 1. 1. 1.]\n",
      " [1. 1. 1. 1.]\n",
      " [1. 1. 1. 1.]]\n"
     ]
    }
   ],
   "source": [
    "'''11. Consi^er the following matrix:\n",
    "Matrix A2 [[1, 2, 3, 4] [5, 6, 7, 8],[9, 10, 11, 12]]\n",
    "Matrix B2 [[1, 2, 3, 4] [5, 6, 7, 8],[9, 10, 11, 12]]\n",
    "Perform the following operation using Python1\n",
    "1. Index wise multiplication\n",
    "2. Matix multiplication\n",
    "3.Add both the matix\n",
    "4. Subtact matix B from A \n",
    "5. Diide Matix B by A\n",
    "'''\n",
    "\n",
    "# Code\n",
    "\n",
    "# Matrix A2\n",
    "A2 = np.array([[1, 2, 3, 4],\n",
    "               [5, 6, 7, 8],\n",
    "               [9, 10, 11, 12]])\n",
    "\n",
    "# Matrix B2\n",
    "B2 = np.array([[1, 2, 3, 4],\n",
    "               [5, 6, 7, 8],\n",
    "               [9, 10, 11, 12]])\n",
    "\n",
    "# Display Matrix A2\n",
    "print(\"Matrix A2:\")\n",
    "print(A2)\n",
    "\n",
    "# Display Matrix B2\n",
    "print(\"\\nMatrix B2:\")\n",
    "print(B2)\n",
    "\n",
    "\n",
    "#1. Index wise multiplication\n",
    "index_wise_multiplication = A2 * B2\n",
    "print(\"1. Index-wise Multiplication:\")\n",
    "print(index_wise_multiplication)\n",
    "\n",
    "#2. Matix multiplication\n",
    "matrix_multiplication = np.dot(A2, B2.T)  # B2.T is the transpose of B2\n",
    "print(\"\\n2. Matrix Multiplication:\")\n",
    "print(matrix_multiplication)\n",
    "\n",
    "# 3.Add both the matix\n",
    "matrix_sum = A2 + B2\n",
    "print(\"\\n3. Matrix Sum:\")\n",
    "print(matrix_sum)\n",
    "\n",
    "# 4. Subtact matix B from A \n",
    "matrix_difference = A2 - B2\n",
    "print(\"\\n4. Matrix Difference (A - B):\")\n",
    "print(matrix_difference)\n",
    "\n",
    "#5. Diide Matix B by A\n",
    "matrix_division = np.divide(B2, A2)\n",
    "print(\"\\n5. Matrix Division (B / A):\")\n",
    "print(matrix_division)\n"
   ]
  },
  {
   "cell_type": "code",
   "execution_count": 10,
   "id": "844d1fec-1261-4170-97d5-e683bce667c4",
   "metadata": {},
   "outputs": [
    {
     "name": "stdout",
     "output_type": "stream",
     "text": [
      "Original Array:\n",
      "[1 2 3 4]\n",
      "\n",
      "Swapped Array:\n",
      "[16777216 33554432 50331648 67108864]\n"
     ]
    }
   ],
   "source": [
    "'''12. Which function in Numpy can be used to swap the byte order of an array?'''\n",
    "\n",
    "# Ans\n",
    "'''\n",
    "In NumPy, you can use the byteswap function to swap the byte order of an array.\n",
    "The byteswap function swaps the byte order of the elements of an array in place\n",
    "'''\n",
    "# code\n",
    "import numpy as np\n",
    "\n",
    "# Create a NumPy array\n",
    "original_array = np.array([1, 2, 3, 4], dtype=np.int32)\n",
    "\n",
    "# Swap the byte order of the array\n",
    "swapped_array = original_array.byteswap()\n",
    "\n",
    "print(\"Original Array:\")\n",
    "print(original_array)\n",
    "\n",
    "print(\"\\nSwapped Array:\")\n",
    "print(swapped_array)\n"
   ]
  },
  {
   "cell_type": "code",
   "execution_count": 11,
   "id": "5cef3eaa-2254-4718-952b-cb618a6498f2",
   "metadata": {},
   "outputs": [
    {
     "name": "stdout",
     "output_type": "stream",
     "text": [
      "Solution vector X:\n",
      "[0.4 0.2]\n"
     ]
    }
   ],
   "source": [
    "'''13. What is the significance of the np.linalg.inv function?'''\n",
    "\n",
    "#Ans\n",
    "'''\n",
    "The np.linalg.inv function in NumPy is used to compute the inverse of a square matrix. \n",
    "The inverse of a matrix is a matrix that, when multiplied with the original matrix, yields the identity matrix.\n",
    "\n",
    "Numerical Stability:\n",
    "\n",
    "In some cases, solving a system of linear equations using matrix inversion can be more numerically stable than direct \n",
    "methods. However, it's essential to be cautious with matrix inversion in the presence of numerical instability, \n",
    "especially for matrices that are ill-conditioned or nearly singular.\n",
    "\n",
    "Applications in Statistics and Optimization:\n",
    "\n",
    "In statistics and optimization problems, matrix inversion is often used in techniques such as linear regression, \n",
    "where finding the coefficients involves solving a system of linear equations.\n",
    "'''\n",
    "\n",
    "# code\n",
    "import numpy as np\n",
    "\n",
    "# Coefficient matrix A\n",
    "A = np.array([[2, 1],\n",
    "              [3, 4]])\n",
    "\n",
    "# Right-hand side vector B\n",
    "B = np.array([1, 2])\n",
    "\n",
    "# Solve for X in AX = B\n",
    "X = np.linalg.inv(A).dot(B)\n",
    "\n",
    "print(\"Solution vector X:\")\n",
    "print(X)\n"
   ]
  },
  {
   "cell_type": "code",
   "execution_count": 12,
   "id": "3a27eacf-72b9-495c-a113-be0ff7358664",
   "metadata": {},
   "outputs": [
    {
     "name": "stdout",
     "output_type": "stream",
     "text": [
      "Original Array (1D):\n",
      "[ 0  1  2  3  4  5  6  7  8  9 10 11]\n",
      "\n",
      "Reshaped Array (3x4 matrix):\n",
      "[[ 0  1  2  3]\n",
      " [ 4  5  6  7]\n",
      " [ 8  9 10 11]]\n"
     ]
    }
   ],
   "source": [
    "'''14. What does the np.reshape function do, and how is it used?'''\n",
    "\n",
    "# Ans\n",
    "'''\n",
    "The np.reshape function in NumPy is used to change the shape of an array without changing its data. \n",
    "It allows you to reorganize the elements of an array to a new shape while maintaining the same data.\n",
    "\n",
    "The total number of elements in the original array must be equal to the total number of elements in the reshaped array.\n",
    "The reshaping is done in a row-major ('C') order by default, but you can specify 'F' for column-major order if needed.\n",
    "If one of the dimensions in the new shape is specified as -1,\n",
    "NumPy automatically calculates the size of that dimension based on the size of the original array.\n",
    "'''\n",
    "\n",
    "# code\n",
    "import numpy as np\n",
    "\n",
    "# Create a 1D array with 12 elements\n",
    "original_array = np.arange(12)\n",
    "\n",
    "# Reshape the 1D array to a 3x4 matrix\n",
    "reshaped_array = np.reshape(original_array, (3, 4))\n",
    "\n",
    "print(\"Original Array (1D):\")\n",
    "print(original_array)\n",
    "\n",
    "print(\"\\nReshaped Array (3x4 matrix):\")\n",
    "print(reshaped_array)\n"
   ]
  },
  {
   "cell_type": "code",
   "execution_count": 13,
   "id": "392879d6-403f-4fc1-86a3-4f8f53fc74f2",
   "metadata": {},
   "outputs": [
    {
     "name": "stdout",
     "output_type": "stream",
     "text": [
      "Array A:\n",
      "[[1 2 3]\n",
      " [4 5 6]]\n",
      "\n",
      "Array B:\n",
      "[10 20 30]\n",
      "\n",
      "Result after Broadcasting (A + B):\n",
      "[[11 22 33]\n",
      " [14 25 36]]\n"
     ]
    }
   ],
   "source": [
    "'''15. What is broadcasting in Numpy?'''\n",
    "\n",
    "# ans\n",
    "'''\n",
    "Broadcasting in NumPy is a powerful mechanism that allows NumPy to perform operations on arrays of different shapes \n",
    "and sizes, often eliminating the need for explicit loops and making the code more concise and efficient. \n",
    "The term \"broadcasting\" refers to the ability of NumPy to automatically and intelligently extend or broadcast dimensions \n",
    "of arrays to perform element-wise operations.\n",
    "\n",
    "The key concept behind broadcasting is that when operating on arrays of different shapes, NumPy automatically adjusts\n",
    "the shape of the smaller array so that they can be combined element-wise. The smaller array is \"broadcast\" over the \n",
    "larger array to make their shapes compatible.\n",
    "\n",
    "The broadcasting rules are as follows:\n",
    "\n",
    "If the arrays do not have the same rank (number of dimensions), pad the smaller array's shape with ones on its left side.\n",
    "Compare the sizes of corresponding dimensions:\n",
    "If the sizes are equal, the dimensions are compatible.\n",
    "If one of the sizes is 1, the dimensions are compatible, and the array with size 1 will be broadcast to match the other\n",
    "array's size in that dimension.\n",
    "If the sizes are neither equal nor 1, the arrays are incompatible, and broadcasting will result in an error.\n",
    "'''\n",
    "\n",
    "# Code\n",
    "import numpy as np\n",
    "\n",
    "# Example arrays\n",
    "A = np.array([[1, 2, 3],\n",
    "              [4, 5, 6]])\n",
    "\n",
    "B = np.array([10, 20, 30])\n",
    "\n",
    "# Broadcasting: B is broadcasted to each row of A\n",
    "result = A + B\n",
    "\n",
    "print(\"Array A:\")\n",
    "print(A)\n",
    "\n",
    "print(\"\\nArray B:\")\n",
    "print(B)\n",
    "\n",
    "print(\"\\nResult after Broadcasting (A + B):\")\n",
    "print(result)\n"
   ]
  },
  {
   "cell_type": "code",
   "execution_count": null,
   "id": "1c890348-9081-4691-b661-c95c49bbe1a6",
   "metadata": {},
   "outputs": [],
   "source": []
  }
 ],
 "metadata": {
  "kernelspec": {
   "display_name": "Python 3 (ipykernel)",
   "language": "python",
   "name": "python3"
  },
  "language_info": {
   "codemirror_mode": {
    "name": "ipython",
    "version": 3
   },
   "file_extension": ".py",
   "mimetype": "text/x-python",
   "name": "python",
   "nbconvert_exporter": "python",
   "pygments_lexer": "ipython3",
   "version": "3.10.8"
  }
 },
 "nbformat": 4,
 "nbformat_minor": 5
}
